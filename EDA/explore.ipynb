{
 "cells": [
  {
   "cell_type": "markdown",
   "id": "b99576a5",
   "metadata": {},
   "source": [
    "# Notebook for exploring different models and prompts"
   ]
  },
  {
   "cell_type": "markdown",
   "id": "1abc1c89",
   "metadata": {},
   "source": [
    "## Setup"
   ]
  },
  {
   "cell_type": "code",
   "execution_count": null,
   "id": "4c98356f",
   "metadata": {},
   "outputs": [],
   "source": [
    "# SQLite compatibility fix for Streamlit Cloud\n",
    "import sys\n",
    "sys.path.append('..') \n",
    "\n",
    "try:\n",
    "    __import__('pysqlite3')\n",
    "    sys.modules['sqlite3'] = sys.modules.pop('pysqlite3')\n",
    "except ImportError:\n",
    "    pass\n",
    "\n",
    "from src.rag_system import RAGSystem\n",
    "from src.document_processor import DocumentProcessor\n",
    "from src.vector_store import VectorStore"
   ]
  },
  {
   "cell_type": "code",
   "execution_count": null,
   "id": "76de889f",
   "metadata": {},
   "outputs": [],
   "source": [
    "rag_system = RAGSystem()\n",
    "\n",
    "rag_system.get_stats()"
   ]
  },
  {
   "cell_type": "code",
   "execution_count": null,
   "id": "8ca181aa",
   "metadata": {},
   "outputs": [],
   "source": [
    "rag_system.query(\"testing to make sure the prompt engine is working\")"
   ]
  },
  {
   "cell_type": "code",
   "execution_count": null,
   "id": "d3b5576d",
   "metadata": {},
   "outputs": [],
   "source": []
  },
  {
   "cell_type": "code",
   "execution_count": null,
   "id": "57e586fa",
   "metadata": {},
   "outputs": [],
   "source": []
  },
  {
   "cell_type": "code",
   "execution_count": null,
   "id": "b4125245",
   "metadata": {},
   "outputs": [],
   "source": []
  }
 ],
 "metadata": {
  "kernelspec": {
   "display_name": "Python 3",
   "language": "python",
   "name": "python3"
  },
  "language_info": {
   "codemirror_mode": {
    "name": "ipython",
    "version": 3
   },
   "file_extension": ".py",
   "mimetype": "text/x-python",
   "name": "python",
   "nbconvert_exporter": "python",
   "pygments_lexer": "ipython3",
   "version": "3.11.13"
  }
 },
 "nbformat": 4,
 "nbformat_minor": 5
}

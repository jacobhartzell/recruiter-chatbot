{
 "cells": [
  {
   "cell_type": "markdown",
   "id": "b99576a5",
   "metadata": {},
   "source": [
    "# Notebook for exploring different models and prompts"
   ]
  },
  {
   "cell_type": "markdown",
   "id": "1abc1c89",
   "metadata": {},
   "source": [
    "## Setup"
   ]
  },
  {
   "cell_type": "code",
   "execution_count": 4,
   "id": "4c98356f",
   "metadata": {},
   "outputs": [],
   "source": [
    "# SQLite compatibility fix for Streamlit Cloud\n",
    "import sys\n",
    "sys.path.append('..') \n",
    "\n",
    "try:\n",
    "    __import__('pysqlite3')\n",
    "    sys.modules['sqlite3'] = sys.modules.pop('pysqlite3')\n",
    "except ImportError:\n",
    "    pass\n",
    "\n",
    "from src.rag_system import RAGSystem\n",
    "from src.document_processor import DocumentProcessor\n",
    "from src.vector_store import VectorStore"
   ]
  },
  {
   "cell_type": "code",
   "execution_count": 5,
   "id": "76de889f",
   "metadata": {},
   "outputs": [
    {
     "name": "stderr",
     "output_type": "stream",
     "text": [
      "HUGGINGFACE_API_TOKEN not found in environment variables\n"
     ]
    },
    {
     "ename": "ValueError",
     "evalue": "HuggingFace API token is required",
     "output_type": "error",
     "traceback": [
      "\u001b[31m---------------------------------------------------------------------------\u001b[39m",
      "\u001b[31mValueError\u001b[39m                                Traceback (most recent call last)",
      "\u001b[36mCell\u001b[39m\u001b[36m \u001b[39m\u001b[32mIn[5]\u001b[39m\u001b[32m, line 1\u001b[39m\n\u001b[32m----> \u001b[39m\u001b[32m1\u001b[39m rag_system = \u001b[43mRAGSystem\u001b[49m\u001b[43m(\u001b[49m\u001b[43m)\u001b[49m\n\u001b[32m      3\u001b[39m rag_system.get_stats()\n",
      "\u001b[36mFile \u001b[39m\u001b[32m/workspaces/recruiter-chatbot/EDA/../src/rag_system.py:33\u001b[39m, in \u001b[36mRAGSystem.__init__\u001b[39m\u001b[34m(self, documents_path, vector_db_path, collection_name)\u001b[39m\n\u001b[32m     31\u001b[39m \u001b[38;5;28mself\u001b[39m.document_processor = DocumentProcessor(chunk_size=\u001b[32m500\u001b[39m, chunk_overlap=\u001b[32m50\u001b[39m)\n\u001b[32m     32\u001b[39m \u001b[38;5;28mself\u001b[39m.vector_store = VectorStore(vector_db_path, collection_name)\n\u001b[32m---> \u001b[39m\u001b[32m33\u001b[39m \u001b[38;5;28mself\u001b[39m.llm_interface = \u001b[43mLLMInterface\u001b[49m\u001b[43m(\u001b[49m\u001b[43m)\u001b[49m\n\u001b[32m     35\u001b[39m \u001b[38;5;66;03m# Load and process documents\u001b[39;00m\n\u001b[32m     36\u001b[39m \u001b[38;5;28mself\u001b[39m.documents_path = documents_path\n",
      "\u001b[36mFile \u001b[39m\u001b[32m/workspaces/recruiter-chatbot/EDA/../src/llm_interface.py:30\u001b[39m, in \u001b[36mLLMInterface.__init__\u001b[39m\u001b[34m(self, model_name, max_tokens, temperature)\u001b[39m\n\u001b[32m     28\u001b[39m \u001b[38;5;28;01mif\u001b[39;00m \u001b[38;5;129;01mnot\u001b[39;00m \u001b[38;5;28mself\u001b[39m.api_token:\n\u001b[32m     29\u001b[39m     logger.error(\u001b[33m\"\u001b[39m\u001b[33mHUGGINGFACE_API_TOKEN not found in environment variables\u001b[39m\u001b[33m\"\u001b[39m)\n\u001b[32m---> \u001b[39m\u001b[32m30\u001b[39m     \u001b[38;5;28;01mraise\u001b[39;00m \u001b[38;5;167;01mValueError\u001b[39;00m(\u001b[33m\"\u001b[39m\u001b[33mHuggingFace API token is required\u001b[39m\u001b[33m\"\u001b[39m)\n\u001b[32m     32\u001b[39m \u001b[38;5;66;03m# Initialize OpenAI client with HuggingFace router\u001b[39;00m\n\u001b[32m     33\u001b[39m \u001b[38;5;28mself\u001b[39m.client = OpenAI(\n\u001b[32m     34\u001b[39m     base_url=\u001b[33m\"\u001b[39m\u001b[33mhttps://router.huggingface.co/v1\u001b[39m\u001b[33m\"\u001b[39m,\n\u001b[32m     35\u001b[39m     api_key=\u001b[38;5;28mself\u001b[39m.api_token\n\u001b[32m     36\u001b[39m )\n",
      "\u001b[31mValueError\u001b[39m: HuggingFace API token is required"
     ]
    }
   ],
   "source": [
    "rag_system = RAGSystem()\n",
    "\n",
    "rag_system.get_stats()"
   ]
  },
  {
   "cell_type": "code",
   "execution_count": null,
   "id": "8ca181aa",
   "metadata": {},
   "outputs": [],
   "source": []
  },
  {
   "cell_type": "code",
   "execution_count": null,
   "id": "57e586fa",
   "metadata": {},
   "outputs": [],
   "source": []
  },
  {
   "cell_type": "code",
   "execution_count": null,
   "id": "b4125245",
   "metadata": {},
   "outputs": [],
   "source": []
  }
 ],
 "metadata": {
  "kernelspec": {
   "display_name": "Python 3",
   "language": "python",
   "name": "python3"
  },
  "language_info": {
   "codemirror_mode": {
    "name": "ipython",
    "version": 3
   },
   "file_extension": ".py",
   "mimetype": "text/x-python",
   "name": "python",
   "nbconvert_exporter": "python",
   "pygments_lexer": "ipython3",
   "version": "3.11.13"
  }
 },
 "nbformat": 4,
 "nbformat_minor": 5
}

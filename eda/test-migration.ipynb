{
 "cells": [
  {
   "cell_type": "markdown",
   "id": "ea161369-b11f-41aa-9499-422b80cc12a6",
   "metadata": {},
   "source": [
    "# Making sure the API works"
   ]
  },
  {
   "cell_type": "code",
   "execution_count": null,
   "id": "14f87b63-a285-4630-a33c-a4f3cb43d8f5",
   "metadata": {},
   "outputs": [],
   "source": [
    "from google import genai\n",
    "from google.genai.types import Content, CreateCachedContentConfig, HttpOptions, Part"
   ]
  },
  {
   "cell_type": "code",
   "execution_count": null,
   "id": "fbdb127f-ed3d-4d1f-ac8b-93b67369fe63",
   "metadata": {},
   "outputs": [],
   "source": [
    "from dotenv import load_dotenv\n",
    "import os\n",
    "\n",
    "# Load environment variables\n",
    "load_dotenv()\n",
    "\n",
    "# Use the variables\n",
    "PROJECT_ID = os.getenv('GCP_PROJECT_ID')\n",
    "LOCATION = os.getenv('GCP_LOCATION')"
   ]
  },
  {
   "cell_type": "code",
   "execution_count": null,
   "id": "b63de7f0-d676-40d0-9aae-95779582b45c",
   "metadata": {},
   "outputs": [],
   "source": [
    "# Only run this block for Vertex AI API\n",
    "client = genai.Client(\n",
    "    vertexai=True, project=PROJECT_ID, location=LOCATION\n",
    ")"
   ]
  },
  {
   "cell_type": "code",
   "execution_count": null,
   "id": "bb93fbb2-d6f6-4639-9666-5bfdf616fe33",
   "metadata": {},
   "outputs": [],
   "source": [
    "content_cache_list = client.caches.list()\n",
    "\n",
    "# Access individual properties of a ContentCache object(s)\n",
    "for content_cache in content_cache_list:\n",
    "    print(f\"Cache `{content_cache.name}` for model `{content_cache.model}`\")\n",
    "    print(f\"Last updated at: {content_cache.update_time}\")\n",
    "    print(f\"Expires at: {content_cache.expire_time}\")"
   ]
  },
  {
   "cell_type": "code",
   "execution_count": null,
   "id": "d6eeb4d9-ab26-4c03-9750-f96104b3e05f",
   "metadata": {},
   "outputs": [],
   "source": [
    "response = client.models.generate_content(\n",
    "    model='gemini-2.0-flash-001', contents='Why is the sky blue?'\n",
    ")\n",
    "print(response.text)"
   ]
  },
  {
   "cell_type": "markdown",
   "id": "3db5c646-1713-4c84-bc64-9bf31c4016c7",
   "metadata": {},
   "source": [
    "# Importing Libraries Works"
   ]
  },
  {
   "cell_type": "code",
   "execution_count": null,
   "id": "087b0d22-a7db-48f6-89b9-0c69b9a45636",
   "metadata": {},
   "outputs": [],
   "source": []
  },
  {
   "cell_type": "code",
   "execution_count": null,
   "id": "5f467161-ff4b-44ff-bafb-3009d73b5d57",
   "metadata": {},
   "outputs": [],
   "source": []
  },
  {
   "cell_type": "code",
   "execution_count": null,
   "id": "a1888dae-e2f3-42b0-8275-52437cced8a2",
   "metadata": {},
   "outputs": [],
   "source": []
  },
  {
   "cell_type": "code",
   "execution_count": null,
   "id": "3a380633-a58e-4780-9776-af613ad3bc5f",
   "metadata": {},
   "outputs": [],
   "source": []
  }
 ],
 "metadata": {
  "environment": {
   "kernel": "conda-base-py",
   "name": "workbench-notebooks.m131",
   "type": "gcloud",
   "uri": "us-docker.pkg.dev/deeplearning-platform-release/gcr.io/workbench-notebooks:m131"
  },
  "kernelspec": {
   "display_name": "Python 3 (ipykernel) (Local)",
   "language": "python",
   "name": "conda-base-py"
  },
  "language_info": {
   "codemirror_mode": {
    "name": "ipython",
    "version": 3
   },
   "file_extension": ".py",
   "mimetype": "text/x-python",
   "name": "python",
   "nbconvert_exporter": "python",
   "pygments_lexer": "ipython3"
  }
 },
 "nbformat": 4,
 "nbformat_minor": 5
}

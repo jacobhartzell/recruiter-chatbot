{
 "cells": [
  {
   "cell_type": "markdown",
   "id": "b99576a5",
   "metadata": {},
   "source": [
    "# Notebook for exploring different models and prompts"
   ]
  },
  {
   "cell_type": "markdown",
   "id": "1abc1c89",
   "metadata": {},
   "source": [
    "## Setup"
   ]
  },
  {
   "cell_type": "code",
   "execution_count": null,
   "id": "4c98356f",
   "metadata": {},
   "outputs": [],
   "source": [
    "# SQLite compatibility fix for Streamlit Cloud\n",
    "import sys\n",
    "sys.path.append('..') \n",
    "\n",
    "try:\n",
    "    __import__('pysqlite3')\n",
    "    sys.modules['sqlite3'] = sys.modules.pop('pysqlite3')\n",
    "except ImportError:\n",
    "    pass\n",
    "\n",
    "from src.rag_system import RAGSystem\n",
    "from src.document_processor import DocumentProcessor\n",
    "from src.vector_store import VectorStore"
   ]
  },
  {
   "cell_type": "code",
   "execution_count": null,
   "id": "76de889f",
   "metadata": {},
   "outputs": [],
   "source": [
    "rag_system = RAGSystem(model_name=\"openai/gpt-oss-20b\")\n",
    "\n",
    "rag_system.get_stats()"
   ]
  },
  {
   "cell_type": "code",
   "execution_count": null,
   "id": "8ca181aa",
   "metadata": {},
   "outputs": [],
   "source": [
    "rag_system.query(\"testing to make sure the prompt engine is working\")"
   ]
  },
  {
   "cell_type": "markdown",
   "id": "d3b5576d",
   "metadata": {},
   "source": [
    "## Build structure for testing prompts"
   ]
  },
  {
   "cell_type": "code",
   "execution_count": null,
   "id": "687bd907",
   "metadata": {},
   "outputs": [],
   "source": [
    "# Create a series of test prompts\n",
    "prompt_list = \\\n",
    "    [\"Tell me about yourself?\", \n",
    "     \"Tell me about your C++ skills?\", \n",
    "     \"Have you worked in Machine Learning?\",\n",
    "     \"Do you have Python Skills?\",\n",
    "     \"Tell me about your python skills?\",\n",
    "     \"What is your favorite color?\",\n",
    "     \"What is the velocity of an unladen swallow?\"]\n"
   ]
  },
  {
   "cell_type": "code",
   "execution_count": null,
   "id": "b6bba605",
   "metadata": {},
   "outputs": [],
   "source": [
    "import pandas as pd\n",
    "\n",
    "# prompt_test will be filled with the responses\n",
    "prompt_test = pd.DataFrame(data=prompt_list,columns=[\"prompt\"])"
   ]
  },
  {
   "cell_type": "code",
   "execution_count": null,
   "id": "0cc07ea5",
   "metadata": {},
   "outputs": [],
   "source": [
    "prompt_test[\"response\"] = [rag_system.query(p) for p in  prompt_test[\"prompt\"]]\n",
    "\n",
    "prompt_test.head()"
   ]
  },
  {
   "cell_type": "code",
   "execution_count": null,
   "id": "11abfbd0",
   "metadata": {},
   "outputs": [],
   "source": [
    "prompt_test.to_html(\"out_gpt.html\")"
   ]
  },
  {
   "cell_type": "code",
   "execution_count": null,
   "id": "487f4cf9",
   "metadata": {},
   "outputs": [],
   "source": []
  },
  {
   "cell_type": "code",
   "execution_count": null,
   "id": "b59f20df",
   "metadata": {},
   "outputs": [],
   "source": []
  },
  {
   "cell_type": "code",
   "execution_count": null,
   "id": "8b4591be",
   "metadata": {},
   "outputs": [],
   "source": [
    "pd.DataFrame?"
   ]
  },
  {
   "cell_type": "code",
   "execution_count": null,
   "id": "3787fce6",
   "metadata": {},
   "outputs": [],
   "source": []
  },
  {
   "cell_type": "code",
   "execution_count": null,
   "id": "a5f1653c",
   "metadata": {},
   "outputs": [],
   "source": []
  },
  {
   "cell_type": "code",
   "execution_count": null,
   "id": "73c43956",
   "metadata": {},
   "outputs": [],
   "source": [
    "import os\n",
    "from openai import OpenAI\n",
    "\n",
    "# HuggingFace API configuration\n",
    "api_token = os.getenv(\"HUGGINGFACE_API_TOKEN\")\n",
    "\n",
    "# Initialize OpenAI client with HuggingFace router\n",
    "client = OpenAI(\n",
    "    base_url=\"https://router.huggingface.co/v1\",\n",
    "    api_key=api_token\n",
    ")\n",
    "\n",
    "models = client.models.list()\n",
    "for model in models:\n",
    "    if 'gpt' in model.id.lower():\n",
    "        print(model.id)\n",
    "    "
   ]
  },
  {
   "cell_type": "code",
   "execution_count": null,
   "id": "d9aafaed",
   "metadata": {},
   "outputs": [],
   "source": []
  },
  {
   "cell_type": "code",
   "execution_count": null,
   "id": "c8e4308f",
   "metadata": {},
   "outputs": [],
   "source": []
  },
  {
   "cell_type": "code",
   "execution_count": null,
   "id": "40421b11",
   "metadata": {},
   "outputs": [],
   "source": []
  },
  {
   "cell_type": "markdown",
   "id": "c82a7c5d",
   "metadata": {},
   "source": []
  },
  {
   "cell_type": "code",
   "execution_count": null,
   "id": "57e586fa",
   "metadata": {},
   "outputs": [],
   "source": []
  },
  {
   "cell_type": "code",
   "execution_count": null,
   "id": "b4125245",
   "metadata": {},
   "outputs": [],
   "source": []
  }
 ],
 "metadata": {
  "kernelspec": {
   "display_name": "Python 3",
   "language": "python",
   "name": "python3"
  },
  "language_info": {
   "codemirror_mode": {
    "name": "ipython",
    "version": 3
   },
   "file_extension": ".py",
   "mimetype": "text/x-python",
   "name": "python",
   "nbconvert_exporter": "python",
   "pygments_lexer": "ipython3",
   "version": "3.11.13"
  }
 },
 "nbformat": 4,
 "nbformat_minor": 5
}
